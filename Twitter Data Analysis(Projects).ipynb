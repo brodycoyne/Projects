{
 "cells": [
  {
   "cell_type": "markdown",
   "id": "6e8ddc9b",
   "metadata": {},
   "source": [
    "# Twitter Data Analysis\n",
    "## Brody Coyne"
   ]
  },
  {
   "attachments": {
    "cavs%20image.jpg": {
     "image/jpeg": "[encoded data removed]"
    }
   },
   "cell_type": "markdown",
   "id": "17583a7a",
   "metadata": {},
   "source": [
    "![cavs%20image.jpg](attachment:cavs%20image.jpg)"
   ]
  },
  {
   "cell_type": "markdown",
   "id": "dc878764",
   "metadata": {},
   "source": [
    "By creating a Twitter developer account and using their API, I was able to gather hundreds of tweets to look at the public sentiment around the Cleveland Cavaliers basketball team. Since the NBA is relatively global I wanted to focus the report on looking at the different languages that people spoke who were tweeting about the Cavs. I know that the global market is pretty large in the NBA as a whole. The Cavs specifically have a very good and well known Spanish broadcaster named [Rafael \"Rafa\" Hernandez-Brito](https://www.news5cleveland.com/news/local-news/meet-the-spanish-voice-of-the-cavaliers-championing-the-team-and-the-latin-community). This shows the significance of the Spanish speaking audience and non-English speaking audience as a whole."
   ]
  },
  {
   "cell_type": "code",
   "execution_count": 1,
   "id": "f092ad0e",
   "metadata": {},
   "outputs": [],
   "source": [
    "import pandas as pd\n",
    "import json\n",
    "import requests\n",
    "import urllib\n",
    "from matplotlib import pyplot as plt"
   ]
  },
  {
   "cell_type": "markdown",
   "id": "11bcb579",
   "metadata": {},
   "source": [
    "In order to access Twitter's API I had to get Authorization from Twitter and I was able to do that by gathering the bearer token and running it through my code."
   ]
  },
  {
   "cell_type": "code",
   "execution_count": 2,
   "id": "08a22901",
   "metadata": {},
   "outputs": [],
   "source": [
    "bearer_token = pd.read_csv(\"bearer922-01.txt\", header = 0, sep = '\\t')"
   ]
  },
  {
   "cell_type": "code",
   "execution_count": 3,
   "id": "e53a839b",
   "metadata": {},
   "outputs": [],
   "source": [
    "header = {'Authorization':'Bearer {}'.format(bearer_token['Bearer_Token'].iloc[0])}"
   ]
  },
  {
   "cell_type": "markdown",
   "id": "7cf4412d",
   "metadata": {},
   "source": [
    "Next, I created a query to limit the tweets I collected to be about the Cavs by using keywords and hashtags. I also wanted to collect information relating to the specific tweets so I used \"user_fields\" and \"tweet_fields\" to find aspects of the tweet like the author ID, creation time, and language."
   ]
  },
  {
   "cell_type": "code",
   "execution_count": 4,
   "id": "f7bf19ed",
   "metadata": {},
   "outputs": [],
   "source": [
    "endpoint = 'https://api.twitter.com/2/tweets/search/recent'"
   ]
  },
  {
   "cell_type": "code",
   "execution_count": 5,
   "id": "1e89fc21",
   "metadata": {},
   "outputs": [],
   "source": [
    "query_param = urllib.parse.quote('from:Cavs OR(Cleveland Cavs OR Cleveland Cavaliers OR Cleveland Basketball OR #LetEmKnow)')"
   ]
  },
  {
   "cell_type": "code",
   "execution_count": 6,
   "id": "e2b1acb5",
   "metadata": {},
   "outputs": [],
   "source": [
    "user_fields = 'username,name'"
   ]
  },
  {
   "cell_type": "code",
   "execution_count": 7,
   "id": "0afe3d67",
   "metadata": {},
   "outputs": [],
   "source": [
    "tweet_fields = 'author_id,public_metrics,created_at,lang'"
   ]
  },
  {
   "cell_type": "code",
   "execution_count": 8,
   "id": "37fe3afd",
   "metadata": {},
   "outputs": [],
   "source": [
    "expansions = 'entities.mentions.username'"
   ]
  },
  {
   "cell_type": "code",
   "execution_count": 9,
   "id": "46e7ead8",
   "metadata": {},
   "outputs": [],
   "source": [
    "query_url = endpoint + '?query={}&user.fields={}&tweet.fields={}&expansions={}'.format(query_param,user_fields,tweet_fields,expansions)"
   ]
  },
  {
   "cell_type": "code",
   "execution_count": 10,
   "id": "7ab2164d",
   "metadata": {},
   "outputs": [
    {
     "data": {
      "text/plain": [
       "'https://api.twitter.com/2/tweets/search/recent?query=from%3ACavs%20OR%28Cleveland%20Cavs%20OR%20Cleveland%20Cavaliers%20OR%20Cleveland%20Basketball%20OR%20%23LetEmKnow%29&user.fields=username,name&tweet.fields=author_id,public_metrics,created_at,lang&expansions=entities.mentions.username'"
      ]
     },
     "execution_count": 10,
     "metadata": {},
     "output_type": "execute_result"
    }
   ],
   "source": [
    "query_url"
   ]
  },
  {
   "cell_type": "markdown",
   "id": "6a470831",
   "metadata": {},
   "source": [
    "I then created the variable response which gathers all of the twitter data by combining the endpoint, query, user_fields, tweet_fields, and expansions."
   ]
  },
  {
   "cell_type": "code",
   "execution_count": 11,
   "id": "e50a8a75",
   "metadata": {},
   "outputs": [],
   "source": [
    "response = requests.get(query_url, headers = header)"
   ]
  },
  {
   "cell_type": "code",
   "execution_count": 12,
   "id": "3075dbbe",
   "metadata": {},
   "outputs": [
    {
     "data": {
      "text/plain": [
       "<Response [200]>"
      ]
     },
     "execution_count": 12,
     "metadata": {},
     "output_type": "execute_result"
    }
   ],
   "source": [
    "response"
   ]
  },
  {
   "cell_type": "code",
   "execution_count": 13,
   "id": "c95555fc",
   "metadata": {},
   "outputs": [],
   "source": [
    "response_dict = json.loads(response.text)"
   ]
  },
  {
   "cell_type": "markdown",
   "id": "a8460879",
   "metadata": {},
   "source": [
    "After checking the tweets I collected to see if the right type of tweets were returned, I created a DataFrame using pandas to store all of the tweets."
   ]
  },
  {
   "cell_type": "code",
   "execution_count": 14,
   "id": "ee5c8852",
   "metadata": {},
   "outputs": [],
   "source": [
    "response_df = pd.DataFrame(response_dict['data'])\n",
    "response_df2 = response_df"
   ]
  },
  {
   "cell_type": "code",
   "execution_count": 15,
   "id": "75c0ae6e",
   "metadata": {},
   "outputs": [
    {
     "data": {
      "text/html": [
       "<div>\n",
       "<style scoped>\n",
       "    .dataframe tbody tr th:only-of-type {\n",
       "        vertical-align: middle;\n",
       "    }\n",
       "\n",
       "    .dataframe tbody tr th {\n",
       "        vertical-align: top;\n",
       "    }\n",
       "\n",
       "    .dataframe thead th {\n",
       "        text-align: right;\n",
       "    }\n",
       "</style>\n",
       "<table border=\"1\" class=\"dataframe\">\n",
       "  <thead>\n",
       "    <tr style=\"text-align: right;\">\n",
       "      <th></th>\n",
       "      <th>created_at</th>\n",
       "      <th>public_metrics</th>\n",
       "      <th>author_id</th>\n",
       "      <th>edit_history_tweet_ids</th>\n",
       "      <th>lang</th>\n",
       "      <th>text</th>\n",
       "      <th>id</th>\n",
       "      <th>entities</th>\n",
       "    </tr>\n",
       "  </thead>\n",
       "  <tbody>\n",
       "    <tr>\n",
       "      <th>0</th>\n",
       "      <td>2022-11-27T04:13:32.000Z</td>\n",
       "      <td>{'retweet_count': 0, 'reply_count': 0, 'like_c...</td>\n",
       "      <td>1197486138274902017</td>\n",
       "      <td>[1596718842348449792]</td>\n",
       "      <td>en</td>\n",
       "      <td>Cleveland Cavaliers vs Milwaukee #Bucks - Full...</td>\n",
       "      <td>1596718842348449792</td>\n",
       "      <td>NaN</td>\n",
       "    </tr>\n",
       "    <tr>\n",
       "      <th>1</th>\n",
       "      <td>2022-11-27T04:12:49.000Z</td>\n",
       "      <td>{'retweet_count': 0, 'reply_count': 0, 'like_c...</td>\n",
       "      <td>1557174562407649280</td>\n",
       "      <td>[1596718661435150336]</td>\n",
       "      <td>en</td>\n",
       "      <td>@Dunzie12 I agree, #LetEmKnow</td>\n",
       "      <td>1596718661435150336</td>\n",
       "      <td>{'mentions': [{'start': 0, 'end': 9, 'username...</td>\n",
       "    </tr>\n",
       "    <tr>\n",
       "      <th>2</th>\n",
       "      <td>2022-11-27T04:11:24.000Z</td>\n",
       "      <td>{'retweet_count': 0, 'reply_count': 0, 'like_c...</td>\n",
       "      <td>1148422870315331584</td>\n",
       "      <td>[1596718305091280896]</td>\n",
       "      <td>en</td>\n",
       "      <td>The 2022 New Mexico BASKETBALL 6A Championship...</td>\n",
       "      <td>1596718305091280896</td>\n",
       "      <td>NaN</td>\n",
       "    </tr>\n",
       "    <tr>\n",
       "      <th>3</th>\n",
       "      <td>2022-11-27T04:10:28.000Z</td>\n",
       "      <td>{'retweet_count': 1, 'reply_count': 0, 'like_c...</td>\n",
       "      <td>37195163</td>\n",
       "      <td>[1596718072362332161]</td>\n",
       "      <td>en</td>\n",
       "      <td>RT @CleBBallClassic: We had an incredible day ...</td>\n",
       "      <td>1596718072362332161</td>\n",
       "      <td>{'mentions': [{'start': 3, 'end': 19, 'usernam...</td>\n",
       "    </tr>\n",
       "    <tr>\n",
       "      <th>4</th>\n",
       "      <td>2022-11-27T04:09:03.000Z</td>\n",
       "      <td>{'retweet_count': 0, 'reply_count': 0, 'like_c...</td>\n",
       "      <td>1556898030569553920</td>\n",
       "      <td>[1596717716202991617]</td>\n",
       "      <td>en</td>\n",
       "      <td>⛹️ HS boys basketball Live\\n🏀 Walsh Jesuit 🆚 B...</td>\n",
       "      <td>1596717716202991617</td>\n",
       "      <td>{'mentions': [{'start': 140, 'end': 149, 'user...</td>\n",
       "    </tr>\n",
       "  </tbody>\n",
       "</table>\n",
       "</div>"
      ],
      "text/plain": [
       "                 created_at  \\\n",
       "0  2022-11-27T04:13:32.000Z   \n",
       "1  2022-11-27T04:12:49.000Z   \n",
       "2  2022-11-27T04:11:24.000Z   \n",
       "3  2022-11-27T04:10:28.000Z   \n",
       "4  2022-11-27T04:09:03.000Z   \n",
       "\n",
       "                                      public_metrics            author_id  \\\n",
       "0  {'retweet_count': 0, 'reply_count': 0, 'like_c...  1197486138274902017   \n",
       "1  {'retweet_count': 0, 'reply_count': 0, 'like_c...  1557174562407649280   \n",
       "2  {'retweet_count': 0, 'reply_count': 0, 'like_c...  1148422870315331584   \n",
       "3  {'retweet_count': 1, 'reply_count': 0, 'like_c...             37195163   \n",
       "4  {'retweet_count': 0, 'reply_count': 0, 'like_c...  1556898030569553920   \n",
       "\n",
       "  edit_history_tweet_ids lang  \\\n",
       "0  [1596718842348449792]   en   \n",
       "1  [1596718661435150336]   en   \n",
       "2  [1596718305091280896]   en   \n",
       "3  [1596718072362332161]   en   \n",
       "4  [1596717716202991617]   en   \n",
       "\n",
       "                                                text                   id  \\\n",
       "0  Cleveland Cavaliers vs Milwaukee #Bucks - Full...  1596718842348449792   \n",
       "1                      @Dunzie12 I agree, #LetEmKnow  1596718661435150336   \n",
       "2  The 2022 New Mexico BASKETBALL 6A Championship...  1596718305091280896   \n",
       "3  RT @CleBBallClassic: We had an incredible day ...  1596718072362332161   \n",
       "4  ⛹️ HS boys basketball Live\\n🏀 Walsh Jesuit 🆚 B...  1596717716202991617   \n",
       "\n",
       "                                            entities  \n",
       "0                                                NaN  \n",
       "1  {'mentions': [{'start': 0, 'end': 9, 'username...  \n",
       "2                                                NaN  \n",
       "3  {'mentions': [{'start': 3, 'end': 19, 'usernam...  \n",
       "4  {'mentions': [{'start': 140, 'end': 149, 'user...  "
      ]
     },
     "execution_count": 15,
     "metadata": {},
     "output_type": "execute_result"
    }
   ],
   "source": [
    "response_df.head()"
   ]
  },
  {
   "cell_type": "markdown",
   "id": "a51b34f9",
   "metadata": {},
   "source": [
    "I noticed that public_metrics has data about the retweets, replies, and likes so I pulled out that data to show it in a table."
   ]
  },
  {
   "cell_type": "code",
   "execution_count": 16,
   "id": "6b45fd29",
   "metadata": {},
   "outputs": [],
   "source": [
    "public_metrics_df = pd.DataFrame(list(response_df['public_metrics']))"
   ]
  },
  {
   "cell_type": "code",
   "execution_count": 17,
   "id": "c9ea170f",
   "metadata": {},
   "outputs": [
    {
     "data": {
      "text/html": [
       "<div>\n",
       "<style scoped>\n",
       "    .dataframe tbody tr th:only-of-type {\n",
       "        vertical-align: middle;\n",
       "    }\n",
       "\n",
       "    .dataframe tbody tr th {\n",
       "        vertical-align: top;\n",
       "    }\n",
       "\n",
       "    .dataframe thead th {\n",
       "        text-align: right;\n",
       "    }\n",
       "</style>\n",
       "<table border=\"1\" class=\"dataframe\">\n",
       "  <thead>\n",
       "    <tr style=\"text-align: right;\">\n",
       "      <th></th>\n",
       "      <th>retweet_count</th>\n",
       "      <th>reply_count</th>\n",
       "      <th>like_count</th>\n",
       "      <th>quote_count</th>\n",
       "    </tr>\n",
       "  </thead>\n",
       "  <tbody>\n",
       "    <tr>\n",
       "      <th>0</th>\n",
       "      <td>0</td>\n",
       "      <td>0</td>\n",
       "      <td>0</td>\n",
       "      <td>0</td>\n",
       "    </tr>\n",
       "    <tr>\n",
       "      <th>1</th>\n",
       "      <td>0</td>\n",
       "      <td>0</td>\n",
       "      <td>0</td>\n",
       "      <td>0</td>\n",
       "    </tr>\n",
       "    <tr>\n",
       "      <th>2</th>\n",
       "      <td>0</td>\n",
       "      <td>0</td>\n",
       "      <td>0</td>\n",
       "      <td>0</td>\n",
       "    </tr>\n",
       "    <tr>\n",
       "      <th>3</th>\n",
       "      <td>1</td>\n",
       "      <td>0</td>\n",
       "      <td>0</td>\n",
       "      <td>0</td>\n",
       "    </tr>\n",
       "    <tr>\n",
       "      <th>4</th>\n",
       "      <td>0</td>\n",
       "      <td>0</td>\n",
       "      <td>0</td>\n",
       "      <td>0</td>\n",
       "    </tr>\n",
       "    <tr>\n",
       "      <th>5</th>\n",
       "      <td>0</td>\n",
       "      <td>0</td>\n",
       "      <td>0</td>\n",
       "      <td>0</td>\n",
       "    </tr>\n",
       "    <tr>\n",
       "      <th>6</th>\n",
       "      <td>2</td>\n",
       "      <td>0</td>\n",
       "      <td>0</td>\n",
       "      <td>0</td>\n",
       "    </tr>\n",
       "    <tr>\n",
       "      <th>7</th>\n",
       "      <td>0</td>\n",
       "      <td>0</td>\n",
       "      <td>0</td>\n",
       "      <td>0</td>\n",
       "    </tr>\n",
       "    <tr>\n",
       "      <th>8</th>\n",
       "      <td>1</td>\n",
       "      <td>0</td>\n",
       "      <td>0</td>\n",
       "      <td>0</td>\n",
       "    </tr>\n",
       "    <tr>\n",
       "      <th>9</th>\n",
       "      <td>1</td>\n",
       "      <td>13</td>\n",
       "      <td>24</td>\n",
       "      <td>0</td>\n",
       "    </tr>\n",
       "  </tbody>\n",
       "</table>\n",
       "</div>"
      ],
      "text/plain": [
       "   retweet_count  reply_count  like_count  quote_count\n",
       "0              0            0           0            0\n",
       "1              0            0           0            0\n",
       "2              0            0           0            0\n",
       "3              1            0           0            0\n",
       "4              0            0           0            0\n",
       "5              0            0           0            0\n",
       "6              2            0           0            0\n",
       "7              0            0           0            0\n",
       "8              1            0           0            0\n",
       "9              1           13          24            0"
      ]
     },
     "execution_count": 17,
     "metadata": {},
     "output_type": "execute_result"
    }
   ],
   "source": [
    "public_metrics_df"
   ]
  },
  {
   "cell_type": "markdown",
   "id": "9b88a934",
   "metadata": {},
   "source": [
    "Because I was only getting back 10 tweets at a time I needed to create a function to collect more tweets. I decided to run the function 50 times which allowed me to collect 500 tweets to analyze."
   ]
  },
  {
   "cell_type": "code",
   "execution_count": 18,
   "id": "d53859ed",
   "metadata": {},
   "outputs": [],
   "source": [
    "def twt_recent_search (query, num_pages, header):\n",
    "    response_list = []\n",
    "    next_token = ''\n",
    "    for i in range(0, num_pages):\n",
    "        if i > 0:\n",
    "            this_query = query + \"&next_token={}\".format(next_token)\n",
    "        else:\n",
    "            this_query = query\n",
    "        \n",
    "        this_response = requests.get(this_query, headers = header)\n",
    "        this_response_dict = json.loads(this_response.text)\n",
    "        response_list.append(this_response_dict)\n",
    "        next_token = this_response_dict['meta']['next_token']\n",
    "        \n",
    "    return response_list"
   ]
  },
  {
   "cell_type": "code",
   "execution_count": 19,
   "id": "af82311f",
   "metadata": {},
   "outputs": [],
   "source": [
    "my_responses = twt_recent_search(query_url, 50, header)"
   ]
  },
  {
   "cell_type": "markdown",
   "id": "5f9da6da",
   "metadata": {},
   "source": [
    "I then decided to reorganize my DataFrame to make the responses make more sense."
   ]
  },
  {
   "cell_type": "code",
   "execution_count": 20,
   "id": "cdd88814",
   "metadata": {},
   "outputs": [],
   "source": [
    "results_1 = pd.DataFrame.from_records(my_responses)"
   ]
  },
  {
   "cell_type": "code",
   "execution_count": 21,
   "id": "355378c5",
   "metadata": {},
   "outputs": [],
   "source": [
    "data_list = list(results_1['data'])"
   ]
  },
  {
   "cell_type": "code",
   "execution_count": 22,
   "id": "32be3c05",
   "metadata": {},
   "outputs": [],
   "source": [
    "data_list_of_dfs = [pd.DataFrame(x) for x in data_list]"
   ]
  },
  {
   "cell_type": "code",
   "execution_count": 23,
   "id": "03415428",
   "metadata": {},
   "outputs": [],
   "source": [
    "data_df = pd.concat(data_list_of_dfs)"
   ]
  },
  {
   "cell_type": "code",
   "execution_count": 24,
   "id": "1801a8ed",
   "metadata": {},
   "outputs": [
    {
     "data": {
      "text/html": [
       "<div>\n",
       "<style scoped>\n",
       "    .dataframe tbody tr th:only-of-type {\n",
       "        vertical-align: middle;\n",
       "    }\n",
       "\n",
       "    .dataframe tbody tr th {\n",
       "        vertical-align: top;\n",
       "    }\n",
       "\n",
       "    .dataframe thead th {\n",
       "        text-align: right;\n",
       "    }\n",
       "</style>\n",
       "<table border=\"1\" class=\"dataframe\">\n",
       "  <thead>\n",
       "    <tr style=\"text-align: right;\">\n",
       "      <th></th>\n",
       "      <th>id</th>\n",
       "      <th>author_id</th>\n",
       "      <th>created_at</th>\n",
       "      <th>lang</th>\n",
       "      <th>edit_history_tweet_ids</th>\n",
       "      <th>public_metrics</th>\n",
       "      <th>text</th>\n",
       "      <th>entities</th>\n",
       "    </tr>\n",
       "  </thead>\n",
       "  <tbody>\n",
       "    <tr>\n",
       "      <th>0</th>\n",
       "      <td>1596718842348449792</td>\n",
       "      <td>1197486138274902017</td>\n",
       "      <td>2022-11-27T04:13:32.000Z</td>\n",
       "      <td>en</td>\n",
       "      <td>[1596718842348449792]</td>\n",
       "      <td>{'retweet_count': 0, 'reply_count': 0, 'like_c...</td>\n",
       "      <td>Cleveland Cavaliers vs Milwaukee #Bucks - Full...</td>\n",
       "      <td>NaN</td>\n",
       "    </tr>\n",
       "    <tr>\n",
       "      <th>1</th>\n",
       "      <td>1596718661435150336</td>\n",
       "      <td>1557174562407649280</td>\n",
       "      <td>2022-11-27T04:12:49.000Z</td>\n",
       "      <td>en</td>\n",
       "      <td>[1596718661435150336]</td>\n",
       "      <td>{'retweet_count': 0, 'reply_count': 0, 'like_c...</td>\n",
       "      <td>@Dunzie12 I agree, #LetEmKnow</td>\n",
       "      <td>{'mentions': [{'start': 0, 'end': 9, 'username...</td>\n",
       "    </tr>\n",
       "    <tr>\n",
       "      <th>2</th>\n",
       "      <td>1596718305091280896</td>\n",
       "      <td>1148422870315331584</td>\n",
       "      <td>2022-11-27T04:11:24.000Z</td>\n",
       "      <td>en</td>\n",
       "      <td>[1596718305091280896]</td>\n",
       "      <td>{'retweet_count': 0, 'reply_count': 0, 'like_c...</td>\n",
       "      <td>The 2022 New Mexico BASKETBALL 6A Championship...</td>\n",
       "      <td>NaN</td>\n",
       "    </tr>\n",
       "    <tr>\n",
       "      <th>3</th>\n",
       "      <td>1596718072362332161</td>\n",
       "      <td>37195163</td>\n",
       "      <td>2022-11-27T04:10:28.000Z</td>\n",
       "      <td>en</td>\n",
       "      <td>[1596718072362332161]</td>\n",
       "      <td>{'retweet_count': 1, 'reply_count': 0, 'like_c...</td>\n",
       "      <td>RT @CleBBallClassic: We had an incredible day ...</td>\n",
       "      <td>{'mentions': [{'start': 3, 'end': 19, 'usernam...</td>\n",
       "    </tr>\n",
       "    <tr>\n",
       "      <th>4</th>\n",
       "      <td>1596717716202991617</td>\n",
       "      <td>1556898030569553920</td>\n",
       "      <td>2022-11-27T04:09:03.000Z</td>\n",
       "      <td>en</td>\n",
       "      <td>[1596717716202991617]</td>\n",
       "      <td>{'retweet_count': 0, 'reply_count': 0, 'like_c...</td>\n",
       "      <td>⛹️ HS boys basketball Live\\n🏀 Walsh Jesuit 🆚 B...</td>\n",
       "      <td>{'mentions': [{'start': 140, 'end': 149, 'user...</td>\n",
       "    </tr>\n",
       "  </tbody>\n",
       "</table>\n",
       "</div>"
      ],
      "text/plain": [
       "                    id            author_id                created_at lang  \\\n",
       "0  1596718842348449792  1197486138274902017  2022-11-27T04:13:32.000Z   en   \n",
       "1  1596718661435150336  1557174562407649280  2022-11-27T04:12:49.000Z   en   \n",
       "2  1596718305091280896  1148422870315331584  2022-11-27T04:11:24.000Z   en   \n",
       "3  1596718072362332161             37195163  2022-11-27T04:10:28.000Z   en   \n",
       "4  1596717716202991617  1556898030569553920  2022-11-27T04:09:03.000Z   en   \n",
       "\n",
       "  edit_history_tweet_ids                                     public_metrics  \\\n",
       "0  [1596718842348449792]  {'retweet_count': 0, 'reply_count': 0, 'like_c...   \n",
       "1  [1596718661435150336]  {'retweet_count': 0, 'reply_count': 0, 'like_c...   \n",
       "2  [1596718305091280896]  {'retweet_count': 0, 'reply_count': 0, 'like_c...   \n",
       "3  [1596718072362332161]  {'retweet_count': 1, 'reply_count': 0, 'like_c...   \n",
       "4  [1596717716202991617]  {'retweet_count': 0, 'reply_count': 0, 'like_c...   \n",
       "\n",
       "                                                text  \\\n",
       "0  Cleveland Cavaliers vs Milwaukee #Bucks - Full...   \n",
       "1                      @Dunzie12 I agree, #LetEmKnow   \n",
       "2  The 2022 New Mexico BASKETBALL 6A Championship...   \n",
       "3  RT @CleBBallClassic: We had an incredible day ...   \n",
       "4  ⛹️ HS boys basketball Live\\n🏀 Walsh Jesuit 🆚 B...   \n",
       "\n",
       "                                            entities  \n",
       "0                                                NaN  \n",
       "1  {'mentions': [{'start': 0, 'end': 9, 'username...  \n",
       "2                                                NaN  \n",
       "3  {'mentions': [{'start': 3, 'end': 19, 'usernam...  \n",
       "4  {'mentions': [{'start': 140, 'end': 149, 'user...  "
      ]
     },
     "execution_count": 24,
     "metadata": {},
     "output_type": "execute_result"
    }
   ],
   "source": [
    "data_df.head()"
   ]
  },
  {
   "cell_type": "markdown",
   "id": "40dbaa7f",
   "metadata": {},
   "source": [
    "I checked to see if the function ran as intended and if my query was broad enough to collect enough data. I intended to collect 500 tweets and it did collect 500 tweets."
   ]
  },
  {
   "cell_type": "code",
   "execution_count": 25,
   "id": "d3e538ba",
   "metadata": {},
   "outputs": [
    {
     "data": {
      "text/plain": [
       "498"
      ]
     },
     "execution_count": 25,
     "metadata": {},
     "output_type": "execute_result"
    }
   ],
   "source": [
    "len(data_df.index)"
   ]
  },
  {
   "cell_type": "markdown",
   "id": "d4d8a52d",
   "metadata": {},
   "source": [
    "Due to focusing on the different languages that people spoke who tweeted about the Cavs, I wanted to sort by the languages to see all of the different ones. Unsurprisingly, English was the most popular language spoke. However, I was a bit surprised that Portuguese and Japanese were the next most popular languages. I would have expected that Spanish would have been second but it was all the way at 6. "
   ]
  },
  {
   "cell_type": "code",
   "execution_count": 26,
   "id": "069a085f",
   "metadata": {},
   "outputs": [],
   "source": [
    "data_df_num = data_df.groupby('lang').count().sort_values('author_id', ascending=False)"
   ]
  },
  {
   "cell_type": "code",
   "execution_count": 27,
   "id": "686b32af",
   "metadata": {},
   "outputs": [
    {
     "data": {
      "text/html": [
       "<div>\n",
       "<style scoped>\n",
       "    .dataframe tbody tr th:only-of-type {\n",
       "        vertical-align: middle;\n",
       "    }\n",
       "\n",
       "    .dataframe tbody tr th {\n",
       "        vertical-align: top;\n",
       "    }\n",
       "\n",
       "    .dataframe thead th {\n",
       "        text-align: right;\n",
       "    }\n",
       "</style>\n",
       "<table border=\"1\" class=\"dataframe\">\n",
       "  <thead>\n",
       "    <tr style=\"text-align: right;\">\n",
       "      <th></th>\n",
       "      <th>id</th>\n",
       "      <th>author_id</th>\n",
       "      <th>created_at</th>\n",
       "      <th>edit_history_tweet_ids</th>\n",
       "      <th>public_metrics</th>\n",
       "      <th>text</th>\n",
       "      <th>entities</th>\n",
       "    </tr>\n",
       "    <tr>\n",
       "      <th>lang</th>\n",
       "      <th></th>\n",
       "      <th></th>\n",
       "      <th></th>\n",
       "      <th></th>\n",
       "      <th></th>\n",
       "      <th></th>\n",
       "      <th></th>\n",
       "    </tr>\n",
       "  </thead>\n",
       "  <tbody>\n",
       "    <tr>\n",
       "      <th>en</th>\n",
       "      <td>435</td>\n",
       "      <td>435</td>\n",
       "      <td>435</td>\n",
       "      <td>435</td>\n",
       "      <td>435</td>\n",
       "      <td>435</td>\n",
       "      <td>237</td>\n",
       "    </tr>\n",
       "    <tr>\n",
       "      <th>ja</th>\n",
       "      <td>20</td>\n",
       "      <td>20</td>\n",
       "      <td>20</td>\n",
       "      <td>20</td>\n",
       "      <td>20</td>\n",
       "      <td>20</td>\n",
       "      <td>0</td>\n",
       "    </tr>\n",
       "    <tr>\n",
       "      <th>pt</th>\n",
       "      <td>15</td>\n",
       "      <td>15</td>\n",
       "      <td>15</td>\n",
       "      <td>15</td>\n",
       "      <td>15</td>\n",
       "      <td>15</td>\n",
       "      <td>8</td>\n",
       "    </tr>\n",
       "    <tr>\n",
       "      <th>zxx</th>\n",
       "      <td>8</td>\n",
       "      <td>8</td>\n",
       "      <td>8</td>\n",
       "      <td>8</td>\n",
       "      <td>8</td>\n",
       "      <td>8</td>\n",
       "      <td>4</td>\n",
       "    </tr>\n",
       "    <tr>\n",
       "      <th>qme</th>\n",
       "      <td>4</td>\n",
       "      <td>4</td>\n",
       "      <td>4</td>\n",
       "      <td>4</td>\n",
       "      <td>4</td>\n",
       "      <td>4</td>\n",
       "      <td>3</td>\n",
       "    </tr>\n",
       "    <tr>\n",
       "      <th>es</th>\n",
       "      <td>3</td>\n",
       "      <td>3</td>\n",
       "      <td>3</td>\n",
       "      <td>3</td>\n",
       "      <td>3</td>\n",
       "      <td>3</td>\n",
       "      <td>1</td>\n",
       "    </tr>\n",
       "    <tr>\n",
       "      <th>und</th>\n",
       "      <td>3</td>\n",
       "      <td>3</td>\n",
       "      <td>3</td>\n",
       "      <td>3</td>\n",
       "      <td>3</td>\n",
       "      <td>3</td>\n",
       "      <td>2</td>\n",
       "    </tr>\n",
       "    <tr>\n",
       "      <th>qht</th>\n",
       "      <td>2</td>\n",
       "      <td>2</td>\n",
       "      <td>2</td>\n",
       "      <td>2</td>\n",
       "      <td>2</td>\n",
       "      <td>2</td>\n",
       "      <td>0</td>\n",
       "    </tr>\n",
       "    <tr>\n",
       "      <th>tr</th>\n",
       "      <td>2</td>\n",
       "      <td>2</td>\n",
       "      <td>2</td>\n",
       "      <td>2</td>\n",
       "      <td>2</td>\n",
       "      <td>2</td>\n",
       "      <td>1</td>\n",
       "    </tr>\n",
       "    <tr>\n",
       "      <th>ca</th>\n",
       "      <td>1</td>\n",
       "      <td>1</td>\n",
       "      <td>1</td>\n",
       "      <td>1</td>\n",
       "      <td>1</td>\n",
       "      <td>1</td>\n",
       "      <td>0</td>\n",
       "    </tr>\n",
       "    <tr>\n",
       "      <th>et</th>\n",
       "      <td>1</td>\n",
       "      <td>1</td>\n",
       "      <td>1</td>\n",
       "      <td>1</td>\n",
       "      <td>1</td>\n",
       "      <td>1</td>\n",
       "      <td>0</td>\n",
       "    </tr>\n",
       "    <tr>\n",
       "      <th>fi</th>\n",
       "      <td>1</td>\n",
       "      <td>1</td>\n",
       "      <td>1</td>\n",
       "      <td>1</td>\n",
       "      <td>1</td>\n",
       "      <td>1</td>\n",
       "      <td>1</td>\n",
       "    </tr>\n",
       "    <tr>\n",
       "      <th>fr</th>\n",
       "      <td>1</td>\n",
       "      <td>1</td>\n",
       "      <td>1</td>\n",
       "      <td>1</td>\n",
       "      <td>1</td>\n",
       "      <td>1</td>\n",
       "      <td>1</td>\n",
       "    </tr>\n",
       "    <tr>\n",
       "      <th>ht</th>\n",
       "      <td>1</td>\n",
       "      <td>1</td>\n",
       "      <td>1</td>\n",
       "      <td>1</td>\n",
       "      <td>1</td>\n",
       "      <td>1</td>\n",
       "      <td>1</td>\n",
       "    </tr>\n",
       "    <tr>\n",
       "      <th>tl</th>\n",
       "      <td>1</td>\n",
       "      <td>1</td>\n",
       "      <td>1</td>\n",
       "      <td>1</td>\n",
       "      <td>1</td>\n",
       "      <td>1</td>\n",
       "      <td>0</td>\n",
       "    </tr>\n",
       "  </tbody>\n",
       "</table>\n",
       "</div>"
      ],
      "text/plain": [
       "       id  author_id  created_at  edit_history_tweet_ids  public_metrics  \\\n",
       "lang                                                                       \n",
       "en    435        435         435                     435             435   \n",
       "ja     20         20          20                      20              20   \n",
       "pt     15         15          15                      15              15   \n",
       "zxx     8          8           8                       8               8   \n",
       "qme     4          4           4                       4               4   \n",
       "es      3          3           3                       3               3   \n",
       "und     3          3           3                       3               3   \n",
       "qht     2          2           2                       2               2   \n",
       "tr      2          2           2                       2               2   \n",
       "ca      1          1           1                       1               1   \n",
       "et      1          1           1                       1               1   \n",
       "fi      1          1           1                       1               1   \n",
       "fr      1          1           1                       1               1   \n",
       "ht      1          1           1                       1               1   \n",
       "tl      1          1           1                       1               1   \n",
       "\n",
       "      text  entities  \n",
       "lang                  \n",
       "en     435       237  \n",
       "ja      20         0  \n",
       "pt      15         8  \n",
       "zxx      8         4  \n",
       "qme      4         3  \n",
       "es       3         1  \n",
       "und      3         2  \n",
       "qht      2         0  \n",
       "tr       2         1  \n",
       "ca       1         0  \n",
       "et       1         0  \n",
       "fi       1         1  \n",
       "fr       1         1  \n",
       "ht       1         1  \n",
       "tl       1         0  "
      ]
     },
     "execution_count": 27,
     "metadata": {},
     "output_type": "execute_result"
    }
   ],
   "source": [
    "data_df_num"
   ]
  },
  {
   "cell_type": "code",
   "execution_count": 28,
   "id": "0a39c4fc",
   "metadata": {},
   "outputs": [],
   "source": [
    "data_df_num = data_df_num.reset_index()"
   ]
  },
  {
   "cell_type": "markdown",
   "id": "03315211",
   "metadata": {},
   "source": [
    "I decided that visualizing the data through a bar chart would be the best method. Obviously, the overwhelming majority of the tweets were in English but it was interesting to see how there was a significant amount of tweets in other languages."
   ]
  },
  {
   "cell_type": "code",
   "execution_count": 29,
   "id": "c9188307",
   "metadata": {},
   "outputs": [
    {
     "data": {
      "image/png": "[encoded data removed]",
      "text/plain": [
       "<Figure size 640x480 with 1 Axes>"
      ]
     },
     "metadata": {},
     "output_type": "display_data"
    }
   ],
   "source": [
    "fig, ax1 = plt.subplots()\n",
    "lang_num = data_df_num['public_metrics']\n",
    "lang_name = data_df_num['lang']\n",
    "ax1.bar(lang_name, lang_num)\n",
    "\n",
    "ax1.set_title('Most Common Languages of Tweets')\n",
    "ax1.set_ylabel('Number of Tweets')\n",
    "ax1.set_xlabel('Language Codes')\n",
    "\n",
    "plt.show()"
   ]
  },
  {
   "cell_type": "markdown",
   "id": "ef345a48",
   "metadata": {},
   "source": [
    "I saved all of the tweets in a csv file so that the I save all of the tweets that I collect at a specific time. This means that when I rerun the code it will not change the first set of tweets that I collected."
   ]
  },
  {
   "cell_type": "code",
   "execution_count": 30,
   "id": "018bbac2",
   "metadata": {},
   "outputs": [],
   "source": [
    "data_df.to_csv('cavstwitterdata1.csv', encoding = 'utf-8')"
   ]
  },
  {
   "cell_type": "code",
   "execution_count": 31,
   "id": "dd542f7a",
   "metadata": {},
   "outputs": [],
   "source": [
    "compression_opts = dict(method='zip',\n",
    "                        archive_name='out.csv')  \n",
    "data_df.to_csv('out.zip', index=False,\n",
    "          compression=compression_opts)"
   ]
  },
  {
   "attachments": {
    "twitter%20developer%20image.jpeg": {
     "image/jpeg": "[encoded data removed]"
    }
   },
   "cell_type": "markdown",
   "id": "1355ad43",
   "metadata": {},
   "source": [
    "![twitter%20developer%20image.jpeg](attachment:twitter%20developer%20image.jpeg)"
   ]
  },
  {
   "cell_type": "markdown",
   "id": "590d895f",
   "metadata": {},
   "source": [
    "After looking through all of the tweets I collected. I noticed that a lot of the tweets are retweets which causes a lot of repeats. While including retweets can obviously be a good way to look at the data because retweets are still interactions. If I could update this project in any way I would probably want to look at the data without retweets so I can only focus on collecting tweets individual people wrote."
   ]
  },
  {
   "cell_type": "markdown",
   "id": "f03b203a",
   "metadata": {},
   "source": [
    "Overall, this project helped to to understand the overall sentiment around the Cleveland Cavaliers during the beginning of the season. I was also able to see the many different languages that people who discussed the Cavs spoke. The data I collected is a good starting point and I can use this data to analyze many more different aspects about tweets about the Cavs."
   ]
  }
 ],
 "metadata": {
  "kernelspec": {
   "display_name": "Python 3 (ipykernel)",
   "language": "python",
   "name": "python3"
  },
  "language_info": {
   "codemirror_mode": {
    "name": "ipython",
    "version": 3
   },
   "file_extension": ".py",
   "mimetype": "text/x-python",
   "name": "python",
   "nbconvert_exporter": "python",
   "pygments_lexer": "ipython3",
   "version": "3.10.8"
  }
 },
 "nbformat": 4,
 "nbformat_minor": 5
}
